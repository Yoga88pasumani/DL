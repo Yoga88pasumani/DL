{
  "nbformat": 4,
  "nbformat_minor": 0,
  "metadata": {
    "colab": {
      "private_outputs": true,
      "provenance": [],
      "authorship_tag": "ABX9TyNm1KCVdvxYvMzvIZaNIB4r",
      "include_colab_link": true
    },
    "kernelspec": {
      "name": "python3",
      "display_name": "Python 3"
    },
    "language_info": {
      "name": "python"
    }
  },
  "cells": [
    {
      "cell_type": "markdown",
      "metadata": {
        "id": "view-in-github",
        "colab_type": "text"
      },
      "source": [
        "<a href=\"https://colab.research.google.com/github/Yoga88pasumani/DL/blob/main/DL_MODEL_PRACTICAL.ipynb\" target=\"_parent\"><img src=\"https://colab.research.google.com/assets/colab-badge.svg\" alt=\"Open In Colab\"/></a>"
      ]
    },
    {
      "cell_type": "markdown",
      "source": [
        "TASK - 1"
      ],
      "metadata": {
        "id": "9PHq56c7jzDW"
      }
    },
    {
      "cell_type": "code",
      "source": [
        "import os\n",
        "import numpy as np\n",
        "from tensorflow.keras.applications import VGG16, VGG19\n",
        "from tensorflow.keras.preprocessing import image\n",
        "from tensorflow.keras.applications.vgg16 import preprocess_input, decode_predictions\n",
        "import matplotlib.pyplot as plt"
      ],
      "metadata": {
        "id": "lyLn_9BkfhGS"
      },
      "execution_count": null,
      "outputs": []
    },
    {
      "cell_type": "code",
      "execution_count": null,
      "metadata": {
        "id": "7fKXwtCda0L9"
      },
      "outputs": [],
      "source": [
        "from keras.applications import VGG16, VGG19\n",
        "from keras.models import Model\n",
        "\n",
        "# Load VGG16 and VGG19 models with pre-trained weights and classifiers included\n",
        "vgg16 = VGG16(weights='imagenet', include_top=True)\n",
        "vgg19 = VGG19(weights='imagenet', include_top=True)\n",
        "\n",
        "# Freeze the convolutional base layers\n",
        "for layer in vgg16.layers:\n",
        "    layer.trainable = False\n",
        "\n",
        "for layer in vgg19.layers:\n",
        "    layer.trainable = False\n",
        "\n",
        "# VGG16 and VGG19 models with classifiers\n",
        "model_vgg16 = Model(inputs=vgg16.input, outputs=vgg16.output)\n",
        "model_vgg19 = Model(inputs=vgg19.input, outputs=vgg19.output)\n"
      ]
    },
    {
      "cell_type": "markdown",
      "source": [
        "TASK - 2\n"
      ],
      "metadata": {
        "id": "Kcx8XdAEjFGW"
      }
    },
    {
      "cell_type": "code",
      "source": [
        "data = \"/content/question-24_test_data-20241028T091942Z-001.zip\"\n"
      ],
      "metadata": {
        "id": "axB22uDAdjhz"
      },
      "execution_count": null,
      "outputs": []
    },
    {
      "cell_type": "code",
      "source": [
        "import numpy as np\n",
        "from tensorflow.keras.applications import VGG16, VGG19\n",
        "from tensorflow.keras.preprocessing import image\n",
        "from tensorflow.keras.applications.vgg16 import preprocess_input, decode_predictions\n",
        "import matplotlib.pyplot as plt\n",
        "\n",
        "vgg16_model = VGG16(weights='imagenet', include_top=True)\n",
        "vgg19_model = VGG19(weights='imagenet', include_top=True)\n",
        "\n",
        "\n",
        "data = \"/content/bicycle.jpg\"\n",
        "\n",
        "def predict_and_display(img_path):\n",
        "\n",
        "    img = image.load_img(img_path, target_size=(224, 224))\n",
        "    x = image.img_to_array(img)\n",
        "    x = np.expand_dims(x, axis=0)\n",
        "    x = preprocess_input(x)\n",
        "\n",
        "\n",
        "    preds_vgg16 = vgg16_model.predict(x)\n",
        "    top_pred_vgg16 = decode_predictions(preds_vgg16, top=1)[0][0]\n",
        "\n",
        "\n",
        "    preds_vgg19 = vgg19_model.predict(x)\n",
        "    top_pred_vgg19 = decode_predictions(preds_vgg19, top=1)[0][0]\n",
        "\n",
        "\n",
        "    plt.imshow(img)\n",
        "    plt.axis('off')\n",
        "    plt.title(f\"VGG16: {top_pred_vgg16[1]} ({top_pred_vgg16[2]*100:.2f}%)\", color='red')\n",
        "    plt.xlabel(f\"VGG19: {top_pred_vgg19[1]} ({top_pred_vgg19[2]*100:.2f}%)\", color='green')\n",
        "    plt.show()\n",
        "\n",
        "predict_and_display(data)\n",
        "\n",
        "\n"
      ],
      "metadata": {
        "id": "X7EdKcQygCSR"
      },
      "execution_count": null,
      "outputs": []
    },
    {
      "cell_type": "code",
      "source": [
        " import numpy as np\n",
        "from tensorflow.keras.applications import VGG16, VGG19\n",
        "from tensorflow.keras.preprocessing import image\n",
        "from tensorflow.keras.applications.vgg16 import preprocess_input, decode_predictions\n",
        "import matplotlib.pyplot as plt\n",
        "\n",
        "vgg16_model = VGG16(weights='imagenet', include_top=True)\n",
        "vgg19_model = VGG19(weights='imagenet', include_top=True)\n",
        "\n",
        "\n",
        "data = \"/content/policevan.jpg\"\n",
        "\n",
        "def predict_and_display(img_path):\n",
        "\n",
        "    img = image.load_img(img_path, target_size=(224, 224))\n",
        "    x = image.img_to_array(img)\n",
        "    x = np.expand_dims(x, axis=0)\n",
        "    x = preprocess_input(x)\n",
        "\n",
        "\n",
        "    preds_vgg16 = vgg16_model.predict(x)\n",
        "    top_pred_vgg16 = decode_predictions(preds_vgg16, top=1)[0][0]\n",
        "\n",
        "\n",
        "    preds_vgg19 = vgg19_model.predict(x)\n",
        "    top_pred_vgg19 = decode_predictions(preds_vgg19, top=1)[0][0]\n",
        "\n",
        "\n",
        "    plt.imshow(img)\n",
        "    plt.axis('off')\n",
        "    plt.title(f\"VGG16: {top_pred_vgg16[1]} ({top_pred_vgg16[2]*100:.2f}%)\", color='red')\n",
        "    plt.xlabel(f\"VGG19: {top_pred_vgg19[1]} ({top_pred_vgg19[2]*100:.2f}%)\", color='green')\n",
        "    plt.show()\n",
        "\n",
        "predict_and_display(data)\n"
      ],
      "metadata": {
        "id": "NaQu8rkYiV0J"
      },
      "execution_count": null,
      "outputs": []
    },
    {
      "cell_type": "code",
      "source": [
        " import numpy as np\n",
        "from tensorflow.keras.applications import VGG16, VGG19\n",
        "from tensorflow.keras.preprocessing import image\n",
        "from tensorflow.keras.applications.vgg16 import preprocess_input, decode_predictions\n",
        "import matplotlib.pyplot as plt\n",
        "\n",
        "vgg16_model = VGG16(weights='imagenet', include_top=True)\n",
        "vgg19_model = VGG19(weights='imagenet', include_top=True)\n",
        "\n",
        "\n",
        "data = \"/content/truck.jpg\"\n",
        "\n",
        "def predict_and_display(img_path):\n",
        "\n",
        "    img = image.load_img(img_path, target_size=(224, 224))\n",
        "    x = image.img_to_array(img)\n",
        "    x = np.expand_dims(x, axis=0)\n",
        "    x = preprocess_input(x)\n",
        "\n",
        "\n",
        "    preds_vgg16 = vgg16_model.predict(x)\n",
        "    top_pred_vgg16 = decode_predictions(preds_vgg16, top=1)[0][0]\n",
        "\n",
        "\n",
        "    preds_vgg19 = vgg19_model.predict(x)\n",
        "    top_pred_vgg19 = decode_predictions(preds_vgg19, top=1)[0][0]\n",
        "\n",
        "\n",
        "    plt.imshow(img)\n",
        "    plt.axis('off')\n",
        "    plt.title(f\"VGG16: {top_pred_vgg16[1]} ({top_pred_vgg16[2]*100:.2f}%)\", color='red')\n",
        "    plt.xlabel(f\"VGG19: {top_pred_vgg19[1]} ({top_pred_vgg19[2]*100:.2f}%)\", color='green')\n",
        "    plt.show()\n",
        "\n",
        "predict_and_display(data)"
      ],
      "metadata": {
        "id": "wWXY0n4DiyNE"
      },
      "execution_count": null,
      "outputs": []
    },
    {
      "cell_type": "code",
      "source": [
        "import numpy as np\n",
        "from tensorflow.keras.applications import VGG16, VGG19\n",
        "from tensorflow.keras.preprocessing import image\n",
        "from tensorflow.keras.applications.vgg16 import preprocess_input, decode_predictions\n",
        "import matplotlib.pyplot as plt\n",
        "\n",
        "vgg16_model = VGG16(weights='imagenet', include_top=True)\n",
        "vgg19_model = VGG19(weights='imagenet', include_top=True)\n",
        "\n",
        "\n",
        "data = \"/content/unicycle.jpg\"\n",
        "\n",
        "def predict_and_display(img_path):\n",
        "\n",
        "    img = image.load_img(img_path, target_size=(224, 224))\n",
        "    x = image.img_to_array(img)\n",
        "    x = np.expand_dims(x, axis=0)\n",
        "    x = preprocess_input(x)\n",
        "\n",
        "\n",
        "    preds_vgg16 = vgg16_model.predict(x)\n",
        "    top_pred_vgg16 = decode_predictions(preds_vgg16, top=1)[0][0]\n",
        "\n",
        "\n",
        "    preds_vgg19 = vgg19_model.predict(x)\n",
        "    top_pred_vgg19 = decode_predictions(preds_vgg19, top=1)[0][0]\n",
        "\n",
        "\n",
        "    plt.imshow(img)\n",
        "    plt.axis('off')\n",
        "    plt.title(f\"VGG16: {top_pred_vgg16[1]} ({top_pred_vgg16[2]*100:.2f}%)\", color='red')\n",
        "    plt.xlabel(f\"VGG19: {top_pred_vgg19[1]} ({top_pred_vgg19[2]*100:.2f}%)\", color='green')\n",
        "    plt.show()\n",
        "\n",
        "predict_and_display(data)"
      ],
      "metadata": {
        "id": "AX71W6LYjaSV"
      },
      "execution_count": null,
      "outputs": []
    },
    {
      "cell_type": "code",
      "source": [
        "vgg16_model = VGG16(weights='imagenet', include_top=True)\n",
        "vgg19_model = VGG19(weights='imagenet', include_top=True)\n",
        "\n",
        "\n",
        "data = \"/content/bicycle.jpg\"\n",
        "\n",
        "def predict_and_display(img_path):\n",
        "\n",
        "    img = image.load_img(img_path, target_size=(224, 224))\n",
        "    x = image.img_to_array(img)\n",
        "    x = np.expand_dims(x, axis=0)\n",
        "    x = preprocess_input(x)\n",
        "\n",
        "\n",
        "    preds_vgg16 = vgg16_model.predict(x)\n",
        "    top_pred_vgg16 = decode_predictions(preds_vgg16, top=1)[0][0]\n",
        "\n",
        "\n",
        "    preds_vgg19 = vgg19_model.predict(x)\n",
        "    top_pred_vgg19 = decode_predictions(preds_vgg19, top=1)[0][0]\n",
        "\n",
        "\n",
        "    plt.imshow(img)\n",
        "    plt.axis('off')\n",
        "    plt.title(f\"VGG16: {top_pred_vgg16[1]} ({top_pred_vgg16[2]*100:.2f}%)\", color='red')\n",
        "    plt.xlabel(f\"VGG19: {top_pred_vgg19[1]} ({top_pred_vgg19[2]*100:.2f}%)\", color='green')\n",
        "    plt.show()\n",
        "\n",
        "predict_and_display(data)\n"
      ],
      "metadata": {
        "id": "48sEm3ZSj-zu"
      },
      "execution_count": null,
      "outputs": []
    },
    {
      "cell_type": "markdown",
      "source": [
        "TASK - 3"
      ],
      "metadata": {
        "id": "8CYjCeCAlyx8"
      }
    },
    {
      "cell_type": "code",
      "source": [
        "from tensorflow.keras.applications import VGG16, VGG19\n",
        "from tensorflow.keras.preprocessing import image\n",
        "from tensorflow.keras.applications.vgg16 import preprocess_input, decode_predictions\n",
        "import matplotlib.pyplot as plt\n",
        "\n",
        "vgg16_model = VGG16(weights='imagenet')\n",
        "vgg19_model = VGG19(weights='imagenet')\n",
        "img_path = \"/content/unicycle.jpg\"\n",
        "img = image.load_img(img_path, target_size=(224, 224))\n",
        "x = preprocess_input(image.img_to_array(img).reshape((1, 224, 224, 3)))\n",
        "pred_vgg16 = decode_predictions(vgg16_model.predict(x), top=1)[0][0]\n",
        "pred_vgg19 = decode_predictions(vgg19_model.predict(x), top=1)[0][0]\n",
        "plt.imshow(img); plt.axis('off')\n",
        "plt.title(f\"VGG16: {pred_vgg16[1]} ({pred_vgg16[2]*100:.2f}%)\", color='red', fontsize=14)\n",
        "plt.figtext(0.5, -0.1, f\"VGG19: {pred_vgg19[1]} ({pred_vgg19[2]*100:.2f}%)\", ha='center', color='green', fontsize=14)\n",
        "plt.show()\n",
        "\n"
      ],
      "metadata": {
        "id": "CrdPNe4qk0mh"
      },
      "execution_count": null,
      "outputs": []
    },
    {
      "cell_type": "code",
      "source": [
        "from tensorflow.keras.applications import VGG16, VGG19\n",
        "from tensorflow.keras.preprocessing import image\n",
        "from tensorflow.keras.applications.vgg16 import preprocess_input, decode_predictions\n",
        "import matplotlib.pyplot as plt\n",
        "\n",
        "vgg16_model = VGG16(weights='imagenet')\n",
        "vgg19_model = VGG19(weights='imagenet')\n",
        "img_path = \"/content/truck.jpg\"\n",
        "img = image.load_img(img_path, target_size=(224, 224))\n",
        "x = preprocess_input(image.img_to_array(img).reshape((1, 224, 224, 3)))\n",
        "pred_vgg16 = decode_predictions(vgg16_model.predict(x), top=1)[0][0]\n",
        "pred_vgg19 = decode_predictions(vgg19_model.predict(x), top=1)[0][0]\n",
        "plt.imshow(img); plt.axis('off')\n",
        "plt.title(f\"VGG16: {pred_vgg16[1]} ({pred_vgg16[2]*100:.2f}%)\", color='red', fontsize=14)\n",
        "plt.figtext(0.5, -0.1, f\"VGG19: {pred_vgg19[1]} ({pred_vgg19[2]*100:.2f}%)\", ha='center', color='green', fontsize=14)\n",
        "plt.show()\n"
      ],
      "metadata": {
        "id": "98LyacSFpSxd"
      },
      "execution_count": null,
      "outputs": []
    },
    {
      "cell_type": "code",
      "source": [
        "from tensorflow.keras.applications import VGG16, VGG19\n",
        "from tensorflow.keras.preprocessing import image\n",
        "from tensorflow.keras.applications.vgg16 import preprocess_input, decode_predictions\n",
        "import matplotlib.pyplot as plt\n",
        "\n",
        "vgg16_model = VGG16(weights='imagenet')\n",
        "vgg19_model = VGG19(weights='imagenet')\n",
        "img_path = \"/content/policevan.jpg\"\n",
        "img = image.load_img(img_path, target_size=(224, 224))\n",
        "x = preprocess_input(image.img_to_array(img).reshape((1, 224, 224, 3)))\n",
        "pred_vgg16 = decode_predictions(vgg16_model.predict(x), top=1)[0][0]\n",
        "pred_vgg19 = decode_predictions(vgg19_model.predict(x), top=1)[0][0]\n",
        "plt.imshow(img); plt.axis('off')\n",
        "plt.title(f\"VGG16: {pred_vgg16[1]} ({pred_vgg16[2]*100:.2f}%)\", color='red', fontsize=14)\n",
        "plt.figtext(0.5, -0.1, f\"VGG19: {pred_vgg19[1]} ({pred_vgg19[2]*100:.2f}%)\", ha='center', color='green', fontsize=14)\n",
        "plt.show()\n"
      ],
      "metadata": {
        "id": "_TnnWnLCp393"
      },
      "execution_count": null,
      "outputs": []
    },
    {
      "cell_type": "code",
      "source": [
        "from tensorflow.keras.applications import VGG16, VGG19\n",
        "from tensorflow.keras.preprocessing import image\n",
        "from tensorflow.keras.applications.vgg16 import preprocess_input, decode_predictions\n",
        "import matplotlib.pyplot as plt\n",
        "\n",
        "vgg16_model = VGG16(weights='imagenet')\n",
        "vgg19_model = VGG19(weights='imagenet')\n",
        "img_path = \"/content/tricycle.jpg\"\n",
        "img = image.load_img(img_path, target_size=(224, 224))\n",
        "x = preprocess_input(image.img_to_array(img).reshape((1, 224, 224, 3)))\n",
        "pred_vgg16 = decode_predictions(vgg16_model.predict(x), top=1)[0][0]\n",
        "pred_vgg19 = decode_predictions(vgg19_model.predict(x), top=1)[0][0]\n",
        "plt.imshow(img); plt.axis('off')\n",
        "plt.title(f\"VGG16: {pred_vgg16[1]} ({pred_vgg16[2]*100:.2f}%)\", color='red', fontsize=14)\n",
        "plt.figtext(0.5, -0.1, f\"VGG19: {pred_vgg19[1]} ({pred_vgg19[2]*100:.2f}%)\", ha='center', color='green', fontsize=14)\n",
        "plt.show()\n"
      ],
      "metadata": {
        "id": "-PjkdZe0qL4s"
      },
      "execution_count": null,
      "outputs": []
    },
    {
      "cell_type": "code",
      "source": [
        "from tensorflow.keras.applications import VGG16, VGG19\n",
        "from tensorflow.keras.preprocessing import image\n",
        "from tensorflow.keras.applications.vgg16 import preprocess_input, decode_predictions\n",
        "import matplotlib.pyplot as plt\n",
        "\n",
        "vgg16_model = VGG16(weights='imagenet')\n",
        "vgg19_model = VGG19(weights='imagenet')\n",
        "img_path = \"/content/bicycle.jpg\"\n",
        "img = image.load_img(img_path, target_size=(224, 224))\n",
        "x = preprocess_input(image.img_to_array(img).reshape((1, 224, 224, 3)))\n",
        "pred_vgg16 = decode_predictions(vgg16_model.predict(x), top=1)[0][0]\n",
        "pred_vgg19 = decode_predictions(vgg19_model.predict(x), top=1)[0][0]\n",
        "plt.imshow(img); plt.axis('off')\n",
        "plt.title(f\"VGG16: {pred_vgg16[1]} ({pred_vgg16[2]*100:.2f}%)\", color='red', fontsize=14)\n",
        "plt.figtext(0.5, -0.1, f\"VGG19: {pred_vgg19[1]} ({pred_vgg19[2]*100:.2f}%)\", ha='center', color='green', fontsize=14)\n",
        "plt.show()"
      ],
      "metadata": {
        "id": "7ndICPDeq0nu"
      },
      "execution_count": null,
      "outputs": []
    }
  ]
}